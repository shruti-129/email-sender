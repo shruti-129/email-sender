{
 "cells": [
  {
   "cell_type": "code",
   "execution_count": 1,
   "metadata": {},
   "outputs": [],
   "source": [
    "import smtplib\n",
    "\n",
    "to = input(\"Enter the email of the recipient:\\n\")\n",
    "\n",
    "content = input(\"Enter the content of the email:\\n\")\n",
    "\n",
    "def sendEmail(to, content):\n",
    "    \n",
    "    # Creating a variable named server and passing the server name and port number \n",
    "    server = smtplib.SMTP('smtp.gmail.com', 587)\n",
    "    \n",
    "    # This will help to communicate with the SMTP server\n",
    "    server.ehlo()\n",
    "    \n",
    "    # To start the session\n",
    "    server.starttls()\n",
    "    \n",
    "    server.login('senderemail@gmail.com','pwd1234')\n",
    "    server.sendmail('senderemail@gmail.com', to, content)\n",
    "    server.close()\n",
    "    \n",
    "sendEmail(to, content)\n",
    "\n",
    "# Enable less secure apps and then start to email\n",
    "    "
   ]
  },
  {
   "cell_type": "code",
   "execution_count": null,
   "metadata": {},
   "outputs": [],
   "source": []
  }
 ],
 "metadata": {
  "kernelspec": {
   "display_name": "Python 3",
   "language": "python",
   "name": "python3"
  },
  "language_info": {
   "codemirror_mode": {
    "name": "ipython",
    "version": 3
   },
   "file_extension": ".py",
   "mimetype": "text/x-python",
   "name": "python",
   "nbconvert_exporter": "python",
   "pygments_lexer": "ipython3",
   "version": "3.7.6"
  }
 },
 "nbformat": 4,
 "nbformat_minor": 2
}
